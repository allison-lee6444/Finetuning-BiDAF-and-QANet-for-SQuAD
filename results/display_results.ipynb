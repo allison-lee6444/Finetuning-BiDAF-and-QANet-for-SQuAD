{
 "cells": [
  {
   "cell_type": "code",
   "execution_count": 9,
   "id": "cfb62223-97ec-490f-87d6-8854ed940b24",
   "metadata": {},
   "outputs": [],
   "source": [
    "model_name=\"dropout-.15\""
   ]
  },
  {
   "cell_type": "code",
   "execution_count": 10,
   "id": "a3771cff-2a55-466c-bb5b-50192d63baeb",
   "metadata": {},
   "outputs": [],
   "source": [
    "import torch"
   ]
  },
  {
   "cell_type": "code",
   "execution_count": 11,
   "id": "555cfe5e-1f83-4558-994a-a12388c971c5",
   "metadata": {},
   "outputs": [],
   "source": [
    "checkpoint = torch.load(f\"{model_name}.pth\")\n",
    "loss = checkpoint['loss']\n",
    "em = checkpoint['em']\n",
    "f1 = checkpoint['f1']"
   ]
  },
  {
   "cell_type": "code",
   "execution_count": 12,
   "id": "512058a5-3734-4cff-8b5b-0c9f2222f5cf",
   "metadata": {
    "id": "b8atlRxvXFkO"
   },
   "outputs": [
    {
     "name": "stdout",
     "output_type": "stream",
     "text": [
      "3.791094409810659\n",
      "53.131504257332075\n",
      "65.73464724436522\n"
     ]
    }
   ],
   "source": [
    "print(loss)\n",
    "print(em)\n",
    "print(f1)"
   ]
  },
  {
   "cell_type": "code",
   "execution_count": 8,
   "id": "0a4e074b-e27e-4e9f-821b-eec5908d45f4",
   "metadata": {},
   "outputs": [
    {
     "name": "stdout",
     "output_type": "stream",
     "text": [
      "3.8659842193903287\n",
      "52.21381267738884\n",
      "64.78828276841216\n"
     ]
    }
   ],
   "source": [
    "print(loss)\n",
    "print(em)\n",
    "print(f1)"
   ]
  },
  {
   "cell_type": "code",
   "execution_count": null,
   "id": "405ba859-3346-43b0-8a3f-f080ea74dac0",
   "metadata": {},
   "outputs": [],
   "source": []
  }
 ],
 "metadata": {
  "kernelspec": {
   "display_name": "Python 3 (ipykernel)",
   "language": "python",
   "name": "python3"
  },
  "language_info": {
   "codemirror_mode": {
    "name": "ipython",
    "version": 3
   },
   "file_extension": ".py",
   "mimetype": "text/x-python",
   "name": "python",
   "nbconvert_exporter": "python",
   "pygments_lexer": "ipython3",
   "version": "3.9.12"
  }
 },
 "nbformat": 4,
 "nbformat_minor": 5
}
